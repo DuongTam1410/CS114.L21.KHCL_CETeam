{
  "nbformat": 4,
  "nbformat_minor": 0,
  "metadata": {
    "colab": {
      "name": "Untitled2.ipynb",
      "provenance": [],
      "collapsed_sections": [],
      "authorship_tag": "ABX9TyOsmFwke5by8Ao8Mvs4/fP2",
      "include_colab_link": true
    },
    "kernelspec": {
      "name": "python3",
      "display_name": "Python 3"
    },
    "language_info": {
      "name": "python"
    }
  },
  "cells": [
    {
      "cell_type": "markdown",
      "metadata": {
        "id": "view-in-github",
        "colab_type": "text"
      },
      "source": [
        "<a href=\"https://colab.research.google.com/github/DuongTam1410/CS114.L21.KHCL_CETeam/blob/main/Untitled2.ipynb\" target=\"_parent\"><img src=\"https://colab.research.google.com/assets/colab-badge.svg\" alt=\"Open In Colab\"/></a>"
      ]
    },
    {
      "cell_type": "code",
      "metadata": {
        "id": "ncQXB4q_c3D-"
      },
      "source": [
        "import pandas as pd\n",
        "import matplotlib.pyplot as plt\n",
        "from sklearn import linear_model"
      ],
      "execution_count": null,
      "outputs": []
    },
    {
      "cell_type": "code",
      "metadata": {
        "id": "-CM4_9K4dRrq"
      },
      "source": [
        "c = ['x', 'y']\n",
        "dt_train = pd.read_csv(\"https://cs.uit.edu.vn/data2.txt\", names = c)\n",
        "dt_test = pd.read_csv(\"https://cs.uit.edu.vn/data3.txt\", names = c)"
      ],
      "execution_count": null,
      "outputs": []
    },
    {
      "cell_type": "code",
      "metadata": {
        "colab": {
          "base_uri": "https://localhost:8080/"
        },
        "id": "HydpdVvNlaXq",
        "outputId": "dcc3dca4-952c-47a9-dabf-1a60089f1a8f"
      },
      "source": [
        "print(dt_train)\n",
        "print(dt_test)"
      ],
      "execution_count": null,
      "outputs": [
        {
          "output_type": "stream",
          "text": [
            "             x         y\n",
            "0      6083695  0.521842\n",
            "1      1954367  0.152648\n",
            "2      3734185  0.298548\n",
            "3      5839301  0.460480\n",
            "4      6343427  0.527977\n",
            "...        ...       ...\n",
            "71110  4472112  0.350379\n",
            "71111  5471895  0.429955\n",
            "71112  9837364  0.801394\n",
            "71113  9466593  0.776407\n",
            "71114  4080801  0.314468\n",
            "\n",
            "[71115 rows x 2 columns]\n",
            "              x        y\n",
            "0      37837612  4.12166\n",
            "1      37395246  3.92089\n",
            "2      36610827  3.21540\n",
            "3      29555651  2.54506\n",
            "4      25928216  2.21831\n",
            "...         ...      ...\n",
            "10585  26872494  2.35117\n",
            "10586  20753811  1.79155\n",
            "10587  33520323  2.90918\n",
            "10588  21243264  1.80292\n",
            "10589  21380484  1.82795\n",
            "\n",
            "[10590 rows x 2 columns]\n"
          ],
          "name": "stdout"
        }
      ]
    },
    {
      "cell_type": "code",
      "metadata": {
        "colab": {
          "base_uri": "https://localhost:8080/",
          "height": 296
        },
        "id": "X2AyXFVcmZbk",
        "outputId": "a10451e5-91e2-4495-d122-b85d7e7f41af"
      },
      "source": [
        "dt_test.plot(kind = 'scatter', x = 'x', y = 'y')\n",
        "plt.show"
      ],
      "execution_count": null,
      "outputs": [
        {
          "output_type": "execute_result",
          "data": {
            "text/plain": [
              "<function matplotlib.pyplot.show>"
            ]
          },
          "metadata": {
            "tags": []
          },
          "execution_count": 54
        },
        {
          "output_type": "display_data",
          "data": {
            "image/png": "[encoded data removed]",
            "text/plain": [
              "<Figure size 432x288 with 1 Axes>"
            ]
          },
          "metadata": {
            "tags": [],
            "needs_background": "light"
          }
        }
      ]
    },
    {
      "cell_type": "code",
      "metadata": {
        "colab": {
          "base_uri": "https://localhost:8080/"
        },
        "id": "JKk06oPpnF9J",
        "outputId": "68d0b245-b4bc-4a60-a0bb-1041c38f7bf1"
      },
      "source": [
        "regr.fit(dt_train[['x']], dt_train[['y']])"
      ],
      "execution_count": null,
      "outputs": [
        {
          "output_type": "execute_result",
          "data": {
            "text/plain": [
              "LinearRegression(copy_X=True, fit_intercept=True, n_jobs=None, normalize=False)"
            ]
          },
          "metadata": {
            "tags": []
          },
          "execution_count": 55
        }
      ]
    },
    {
      "cell_type": "code",
      "metadata": {
        "id": "5yJdtW_xn1lN",
        "colab": {
          "base_uri": "https://localhost:8080/"
        },
        "outputId": "d1ad72bf-2a8d-4476-b779-55cb960b7c74"
      },
      "source": [
        "diabetes_y_pred = regr.predict(dt_train[['x']])\n",
        "print()"
      ],
      "execution_count": null,
      "outputs": [
        {
          "output_type": "stream",
          "text": [
            "\n"
          ],
          "name": "stdout"
        }
      ]
    },
    {
      "cell_type": "code",
      "metadata": {
        "colab": {
          "base_uri": "https://localhost:8080/",
          "height": 252
        },
        "id": "WKsQDBA7oXpW",
        "outputId": "6ee6a7d1-66c9-42a2-aaa9-7c896bcf596d"
      },
      "source": [
        "plt.scatter(dt_train[['x']], dt_train[['y']],  color='black')\n",
        "plt.plot(dt_train[['x']], diabetes_y_pred, color='blue', linewidth=3)\n",
        "\n",
        "plt.xticks(())\n",
        "plt.yticks(())\n",
        "\n",
        "plt.show()"
      ],
      "execution_count": null,
      "outputs": [
        {
          "output_type": "display_data",
          "data": {
            "image/png": "[encoded data removed]",
            "text/plain": [
              "<Figure size 432x288 with 1 Axes>"
            ]
          },
          "metadata": {
            "tags": []
          }
        }
      ]
    },
    {
      "cell_type": "code",
      "metadata": {
        "colab": {
          "base_uri": "https://localhost:8080/"
        },
        "id": "j7pAdJB-ouYN",
        "outputId": "e035d411-78aa-405e-b885-8750b9608728"
      },
      "source": [
        "print(diabetes_y_pred)"
      ],
      "execution_count": null,
      "outputs": [
        {
          "output_type": "stream",
          "text": [
            "[[0.49852338]\n",
            " [0.14935986]\n",
            " [0.2998559 ]\n",
            " ...\n",
            " [0.81592232]\n",
            " [0.78457104]\n",
            " [0.3291647 ]]\n"
          ],
          "name": "stdout"
        }
      ]
    },
    {
      "cell_type": "code",
      "metadata": {
        "colab": {
          "base_uri": "https://localhost:8080/"
        },
        "id": "FW3kkEiGpq5Z",
        "outputId": "ea892e30-60fc-4e7e-e4d2-29d4df0c4082"
      },
      "source": [
        "#mean squared error dua vao thu vien sklearn\n",
        "from sklearn.metrics import mean_squared_error\n",
        "mean_squared_error( dt_train[['y']] ,diabetes_y_pred)\n"
      ],
      "execution_count": null,
      "outputs": [
        {
          "output_type": "execute_result",
          "data": {
            "text/plain": [
              "0.00014337728721748835"
            ]
          },
          "metadata": {
            "tags": []
          },
          "execution_count": 59
        }
      ]
    },
    {
      "cell_type": "code",
      "metadata": {
        "colab": {
          "base_uri": "https://localhost:8080/"
        },
        "id": "ixS374-wBMv4",
        "outputId": "410ceae4-6400-48a7-f55e-48b838cb963a"
      },
      "source": [
        "import numpy as np\n",
        "\n",
        "print('Avr: ',np.average(dt_test['y']))"
      ],
      "execution_count": null,
      "outputs": [
        {
          "output_type": "stream",
          "text": [
            "Avr:  2.642811968838527\n"
          ],
          "name": "stdout"
        }
      ]
    },
    {
      "cell_type": "code",
      "metadata": {
        "id": "IJniAL0s2-cX"
      },
      "source": [
        "#ham thay doi gia tri X, tham khao cua thay AN\n",
        "\n",
        "import numpy as np\n",
        "def increase_dimension(X_):\n",
        "    X = X_\n",
        "    X = np.hstack((X, np.log2(X_)))\n",
        "    X = np.hstack((X, X_*np.log2(X_) ))\n",
        "    X = np.hstack((X, X_*X_))\n",
        "    return X"
      ],
      "execution_count": null,
      "outputs": []
    },
    {
      "cell_type": "code",
      "metadata": {
        "colab": {
          "base_uri": "https://localhost:8080/"
        },
        "id": "86FYwjH94UEX",
        "outputId": "14581610-e35a-45f2-8fe3-b7de9f8dd585"
      },
      "source": [
        "#tham khao thay AN\n",
        "import numpy as np\n",
        "\n",
        "X_ = dt_train['x'].values.reshape(-1,1)\n",
        "Y = dt_test['y'].values\n",
        "\n",
        "X =  increase_dimension(X_)\n",
        "print(X)\n",
        "print(Y)"
      ],
      "execution_count": null,
      "outputs": [
        {
          "output_type": "stream",
          "text": [
            "[[6.08369500e+06 2.25365164e+01 1.37105292e+08 3.70113449e+13]\n",
            " [1.95436700e+06 2.08982700e+01 4.08428892e+07 3.81955037e+12]\n",
            " [3.73418500e+06 2.18323620e+01 8.15260786e+07 1.39441376e+13]\n",
            " ...\n",
            " [9.83736400e+06 2.32298404e+01 2.28520395e+08 9.67737305e+13]\n",
            " [9.46659300e+06 2.31744139e+01 2.19382744e+08 8.96163830e+13]\n",
            " [4.08080100e+06 2.19604209e+01 8.96161077e+07 1.66529368e+13]]\n",
            "[4.12166 3.92089 3.2154  ... 2.90918 1.80292 1.82795]\n"
          ],
          "name": "stdout"
        }
      ]
    },
    {
      "cell_type": "code",
      "metadata": {
        "id": "pHCou-3h61LH"
      },
      "source": [
        "regr2 = linear_model.LinearRegression()"
      ],
      "execution_count": null,
      "outputs": []
    },
    {
      "cell_type": "code",
      "metadata": {
        "colab": {
          "base_uri": "https://localhost:8080/"
        },
        "id": "yjMXk3i7CZ82",
        "outputId": "24cd77ec-c689-4e20-b069-8913a616eb0a"
      },
      "source": [
        "regr2.fit(X,dt_train['y'])"
      ],
      "execution_count": null,
      "outputs": [
        {
          "output_type": "execute_result",
          "data": {
            "text/plain": [
              "LinearRegression(copy_X=True, fit_intercept=True, n_jobs=None, normalize=False)"
            ]
          },
          "metadata": {
            "tags": []
          },
          "execution_count": 64
        }
      ]
    },
    {
      "cell_type": "code",
      "metadata": {
        "id": "xKD2mXW_NRbZ"
      },
      "source": [
        "diabetes_y_pred2 = regr2.predict(X)"
      ],
      "execution_count": null,
      "outputs": []
    },
    {
      "cell_type": "code",
      "metadata": {
        "colab": {
          "base_uri": "https://localhost:8080/"
        },
        "id": "sDB4ckLeCl05",
        "outputId": "ac0f64cb-63b3-4551-c82d-04cfee539ebb"
      },
      "source": [
        "#mean squared error sau khi cai thien\n",
        "from sklearn.metrics import mean_squared_error\n",
        "mean_squared_error( dt_train[['y']] ,diabetes_y_pred2)"
      ],
      "execution_count": null,
      "outputs": [
        {
          "output_type": "execute_result",
          "data": {
            "text/plain": [
              "0.00012190225045388428"
            ]
          },
          "metadata": {
            "tags": []
          },
          "execution_count": 67
        }
      ]
    }
  ]
}